{
 "cells": [
  {
   "cell_type": "markdown",
   "id": "a0723148-1b4a-4e86-a60d-f7579a11718a",
   "metadata": {},
   "source": [
    "# Lab 01: Setup computing environment"
   ]
  },
  {
   "cell_type": "markdown",
   "id": "fba952d1-533c-48d6-8ce5-4897c46d3f1f",
   "metadata": {},
   "source": [
    "### (10 pts) Task 1: Run this block of code to ensure that your dependencies are installed"
   ]
  },
  {
   "cell_type": "code",
   "execution_count": 2,
   "id": "533a1f9e-e784-4a52-89e3-cbe31657662a",
   "metadata": {},
   "outputs": [],
   "source": [
    "import numpy as np\n",
    "import tensorflow\n",
    "import torch"
   ]
  },
  {
   "cell_type": "markdown",
   "id": "a44a53aa-1b0a-45ab-83b0-1f18c1504d98",
   "metadata": {},
   "source": [
    "### (10 pts) Task 2: Complete the function `linear_transformation()` by implementing a matrix multiplication between the data matrix, `X` of size `M x N`, and the tensor, `W` of size `N x N` (an identity matrix)."
   ]
  },
  {
   "cell_type": "code",
   "execution_count": 10,
   "id": "a67a694b-7b5c-4f86-a7cb-63b7794d820b",
   "metadata": {},
   "outputs": [],
   "source": [
    "def linear_transformation(X, W):\n",
    "    \"\"\"\n",
    "    Parameters\n",
    "    ----------\n",
    "    X: np.array (M x N)\n",
    "        Data matrix\n",
    "    W: np.array(N x N)\n",
    "        Linear transformation\n",
    "    Returns\n",
    "    -------\n",
    "    X_prime: np.array (M x N)\n",
    "    \"\"\"\n",
    "    \n",
    "    return np.matmul(X, W)"
   ]
  },
  {
   "cell_type": "code",
   "execution_count": 3,
   "id": "8917b5dc-5306-477e-ba31-680f3c54386f",
   "metadata": {},
   "outputs": [],
   "source": [
    "W = np.identity(10)\n",
    "X = np.random.random((300, 10))"
   ]
  },
  {
   "cell_type": "code",
   "execution_count": 11,
   "id": "fb6516c3-1c2b-487c-b8c6-2def318c7d49",
   "metadata": {},
   "outputs": [],
   "source": [
    "X_tx = linear_transformation(X, W)\n",
    "assert (X_tx == X).all()"
   ]
  },
  {
   "cell_type": "code",
   "execution_count": 12,
   "id": "fe51efcc",
   "metadata": {},
   "outputs": [
    {
     "data": {
      "text/plain": [
       "True"
      ]
     },
     "execution_count": 12,
     "metadata": {},
     "output_type": "execute_result"
    }
   ],
   "source": [
    "(X_tx == X).all()"
   ]
  },
  {
   "cell_type": "code",
   "execution_count": null,
   "id": "0e6999a4",
   "metadata": {},
   "outputs": [],
   "source": []
  }
 ],
 "metadata": {
  "kernelspec": {
   "display_name": "Python 3",
   "language": "python",
   "name": "python3"
  },
  "language_info": {
   "codemirror_mode": {
    "name": "ipython",
    "version": 3
   },
   "file_extension": ".py",
   "mimetype": "text/x-python",
   "name": "python",
   "nbconvert_exporter": "python",
   "pygments_lexer": "ipython3",
   "version": "3.8.3"
  }
 },
 "nbformat": 4,
 "nbformat_minor": 5
}
